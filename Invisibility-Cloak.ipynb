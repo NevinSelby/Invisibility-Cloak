{
 "cells": [
  {
   "cell_type": "code",
   "execution_count": null,
   "metadata": {},
   "outputs": [],
   "source": [
    "import cv2\n",
    "import time\n",
    "import numpy as np"
   ]
  },
  {
   "cell_type": "code",
   "execution_count": null,
   "metadata": {},
   "outputs": [],
   "source": [
    "videocapture = cv2.VideoCapture(0)"
   ]
  },
  {
   "cell_type": "code",
   "execution_count": null,
   "metadata": {},
   "outputs": [],
   "source": [
    "_, background = videocapture.read()\n",
    "time.sleep(2)\n",
    "_, background = videocapture.read()"
   ]
  },
  {
   "cell_type": "code",
   "execution_count": null,
   "metadata": {},
   "outputs": [],
   "source": [
    "open_kernel = np.ones((5,5),np.uint8)\n",
    "close_kernel = np.ones((7,7),np.uint8)\n",
    "dilation_kernel = np.ones((10, 10), np.uint8)"
   ]
  },
  {
   "cell_type": "code",
   "execution_count": null,
   "metadata": {},
   "outputs": [],
   "source": [
    "def filter_mask(mask):\n",
    "    close_mask = cv2.morphologyEx(mask, cv2.MORPH_CLOSE, close_kernel)\n",
    "    open_mask = cv2.morphologyEx(close_mask, cv2.MORPH_OPEN, open_kernel)\n",
    "    dilation = cv2.dilate(open_mask, dilation_kernel, iterations= 1)\n",
    "    return dilation"
   ]
  },
  {
   "cell_type": "code",
   "execution_count": null,
   "metadata": {},
   "outputs": [],
   "source": [
    "while videocapture.isOpened():\n",
    "    ret, frame = videocapture.read()\n",
    "    hsv = cv2.cvtColor(frame, cv2.COLOR_BGR2HSV)\n",
    "\n",
    "    lower_bound = np.array([0,0,200])\n",
    "    upper_bound = np.array([255,55,255])\n",
    "    \n",
    "    mask = cv2.inRange(hsv, lower_bound, upper_bound)\n",
    "    mask = filter_mask(mask)\n",
    "\n",
    "    cloak = cv2.bitwise_and(background, background, mask=mask)\n",
    "\n",
    "    inverse_mask = cv2.bitwise_not(mask)  \n",
    "\n",
    "    current_background = cv2.bitwise_and(frame, frame, mask=inverse_mask)\n",
    "\n",
    "    combined = cv2.add(cloak, current_background)\n",
    "\n",
    "    cv2.imshow(\"Final output\", combined)\n",
    "\n",
    "    if cv2.waitKey(1) == ord('q'):\n",
    "        break"
   ]
  },
  {
   "cell_type": "code",
   "execution_count": null,
   "metadata": {},
   "outputs": [],
   "source": []
  }
 ],
 "metadata": {
  "kernelspec": {
   "display_name": "Python 3",
   "language": "python",
   "name": "python3"
  },
  "language_info": {
   "codemirror_mode": {
    "name": "ipython",
    "version": 3
   },
   "file_extension": ".py",
   "mimetype": "text/x-python",
   "name": "python",
   "nbconvert_exporter": "python",
   "pygments_lexer": "ipython3",
   "version": "3.7.4"
  }
 },
 "nbformat": 4,
 "nbformat_minor": 2
}
